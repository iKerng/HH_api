{
 "cells": [
  {
   "cell_type": "code",
   "execution_count": 28,
   "metadata": {
    "collapsed": true
   },
   "outputs": [],
   "source": [
    "import requests as rq\n",
    "import pandas as pd\n",
    "import re\n",
    "from tqdm import tqdm\n",
    "import sqlite3\n",
    "import time\n",
    "import os.path\n",
    "import ast\n",
    "from HH_api import hh_token as ad"
   ]
  },
  {
   "cell_type": "code",
   "execution_count": 29,
   "outputs": [],
   "source": [
    "api_hh = 'https://api.hh.ru/'\n",
    "date_from = '1970-01-02'\n",
    "page = 0\n",
    "per_page = 100\n",
    "limit = 2000\n",
    "comp_name = 'сбер'\n",
    "token = ad.hh_token_type + ' ' + ad.hh_token"
   ],
   "metadata": {
    "collapsed": false,
    "pycharm": {
     "name": "#%%\n"
    }
   }
  },
  {
   "cell_type": "code",
   "execution_count": 30,
   "outputs": [
    {
     "name": "stderr",
     "output_type": "stream",
     "text": [
      "<ipython-input-30-f3f23dc010ce>:11: DeprecationWarning: The default dtype for empty Series will be 'object' instead of 'float64' in a future version. Specify a dtype explicitly to silence this warning.\n",
      "  ser_vacs_id_old = pd.Series()\n"
     ]
    },
    {
     "name": "stdout",
     "output_type": "stream",
     "text": [
      "Найден файл выгрузки. Будем проверять наличие новых появившихся вакансий, а также удалим закрытые вакансии.\n"
     ]
    }
   ],
   "source": [
    "# надо будет перенести в начало кода, так как в него же будем подгружать данные из CSV\n",
    "ls_columns = ['id', 'description', 'key_skills', 'schedule', 'experience', 'code', 'department'\n",
    "    , 'employment', 'salary', 'archived', 'name', 'area', 'created_at', 'published_at'\n",
    "    , 'employer', 'type', 'has_test', 'test', 'specialization', 'contacts', 'working_days'\n",
    "    , 'working_time_intervals', 'working_time_modes', 'accept_temporary']\n",
    "vacancies = pd.DataFrame(columns=ls_columns)\n",
    "# ,id,description,key_skills,schedule,experience,code,department\n",
    "# ,employment,salary,archived,name,area,created_at,published_at\n",
    "# ,employer,type,has_test,test,specialization,contacts,working_days\n",
    "# ,working_time_intervals,working_time_modes,accept_temporary\n",
    "ser_vacs_id_old = pd.Series()\n",
    "\n",
    "# Нужно проверить наличие файла выгрузки:\n",
    "if os.path.exists('HH_api/data/download_source.csv'):\n",
    "    print('Найден файл выгрузки. Будем проверять наличие новых появившихся вакансий, а также удалим закрытые вакансии.')\n",
    "    vacancies = pd.read_csv('HH_api/data/download_source.csv')\n",
    "    vacancies = vacancies.drop('Unnamed: 0', axis=1)\n",
    "    df_vacs_id_old = vacancies[['id']].rename(columns={'id':'id_old'})\n",
    "\n",
    "# df_vacs_id_old"
   ],
   "metadata": {
    "collapsed": false,
    "pycharm": {
     "name": "#%%\n"
    }
   }
  },
  {
   "cell_type": "code",
   "execution_count": 31,
   "outputs": [
    {
     "data": {
      "text/plain": "'3529'"
     },
     "execution_count": 31,
     "metadata": {},
     "output_type": "execute_result"
    }
   ],
   "source": [
    "vacs_comp = pd.DataFrame(rq.get(api_hh+'employers?text='+comp_name, headers={'authorization': token})\n",
    "                         .json().get('items'))\n",
    "\n",
    "vacs_comp = vacs_comp[vacs_comp.open_vacancies != 0].sort_values(by='open_vacancies', ascending=False)\n",
    "ls_comp_id = vacs_comp.id.to_list()\n",
    "ls_comp_id[0]"
   ],
   "metadata": {
    "collapsed": false,
    "pycharm": {
     "name": "#%%\n"
    }
   }
  },
  {
   "cell_type": "code",
   "execution_count": 32,
   "outputs": [],
   "source": [
    "filter_vacs_dict = {'Authorization':token, 'per_page':per_page, 'page':page, 'date_from':date_from\n",
    "    , 'order_by':'publication_time', }"
   ],
   "metadata": {
    "collapsed": false,
    "pycharm": {
     "name": "#%%\n"
    }
   }
  },
  {
   "cell_type": "code",
   "execution_count": 33,
   "outputs": [
    {
     "name": "stdout",
     "output_type": "stream",
     "text": [
      "Всего найдено вакансий: 5938\n",
      "https://hh.ru/search/vacancy?date_from=02.01.1970&employer_id=3529&enable_snippets=true&items_on_page=100&order_by=publication_time\n",
      "2021-12-10T11:50:55+0300\n",
      "https://hh.ru/search/vacancy?date_from=02.01.1970&date_to=10.12.2021+23%3A59%3A59&employer_id=3529&enable_snippets=true&items_on_page=100&order_by=publication_time\n",
      "5939\n",
      "https://hh.ru/search/vacancy?date_from=02.01.1970&date_to=03.12.2021+23%3A59%3A59&employer_id=3529&enable_snippets=true&items_on_page=100&order_by=publication_time\n",
      "4120\n",
      "https://hh.ru/search/vacancy?date_from=02.01.1970&date_to=25.11.2021+23%3A59%3A59&employer_id=3529&enable_snippets=true&items_on_page=100&order_by=publication_time\n",
      "2392\n",
      "https://hh.ru/search/vacancy?date_from=02.01.1970&date_to=15.11.2021+23%3A59%3A59&employer_id=3529&enable_snippets=true&items_on_page=100&order_by=publication_time\n",
      "660\n"
     ]
    }
   ],
   "source": [
    "df_log = pd.DataFrame(columns={'hyperlink', 'vacation_id', 'rq_alt_url'})\n",
    "\n",
    "vacs_id = []\n",
    "for comp_iter in [ls_comp_id[0]]:\n",
    "#     добавляем в словарь параметров идентификатор компании, по которой совершаем поиск\n",
    "    filter_vacs_dict['employer_id'] = comp_iter\n",
    "#     формируем запрос к АПИ на получение списка вакансий и тех. данные поиска\n",
    "    rq_api_hh = rq.get(api_hh+'vacancies?', params=filter_vacs_dict).json()\n",
    "#     записываем в переменную количество найденных вакансий по указанному фильтру\n",
    "    quantity_vacs = rq_api_hh.get('found')\n",
    "    print('Всего найдено вакансий: '+str(quantity_vacs))\n",
    "    print(rq_api_hh.get('alternate_url'))\n",
    "#     из полученного ответа от АПИ формируем DataFrame с идентификаторы\n",
    "#     вакансий нулевой страницы и датой создания вакансии\n",
    "    df_test = pd.DataFrame(rq_api_hh.get('items'))[['id', 'created_at']].sort_values(by='created_at')\n",
    "#     записываем идентификаторы в list, чтобы по ним потом пробегаться\n",
    "    vacs_id = vacs_id + df_test.id.to_list()\n",
    "#     записываем максимальную дату создания, чтобы от нее в дальнейшем вести отсчет\n",
    "    date_to = df_test['created_at'].loc[0]\n",
    "    print(date_to)\n",
    "#     если вакансий больше, чем может вернуть АПИ\n",
    "    filter_vacs_dict['date_to'] = date_to[0:10]\n",
    "    while quantity_vacs > limit:\n",
    "        filter_vacs_dict['page'] = 0\n",
    "        rq_api_hh = rq.get(api_hh+'vacancies?', params=filter_vacs_dict).json()\n",
    "        df_test = pd.DataFrame(rq_api_hh.get('items'))[['id', 'created_at']].sort_values(by='created_at')\n",
    "        count_pages = rq_api_hh.get('pages')\n",
    "        print(rq_api_hh.get('alternate_url'))\n",
    "        vacs_id = vacs_id + df_test.id.to_list()\n",
    "    #         забираем данные с 20 страниц\n",
    "        for pg in range(count_pages-1):\n",
    "    #             обновляем номер страницы в параметрах, прибавляя единицу, т.к.\n",
    "    #             данные нулевой страницы у нас уже имеются\n",
    "            filter_vacs_dict['page'] = pg + 1\n",
    "    #             формируем запрос к АПИ на получение списка вакансий и тех. данные поиска\n",
    "            rq_api_hh = rq.get(api_hh+'vacancies?', params=filter_vacs_dict).json()\n",
    "    #             из полученного ответа от АПИ формируем DataFrame с идентификаторы\n",
    "    #             вакансий нулевой страницы и датой создания вакансии\n",
    "            df_test = pd.DataFrame(rq_api_hh.get('items'))[['id', 'created_at']].sort_values(by='created_at')\n",
    "    #             записываем идентификаторы в list, чтобы по ним потом пробегаться\n",
    "            vacs_id = vacs_id + df_test.id.to_list()\n",
    "\n",
    "\n",
    "#         записываем в переменную количество найденных вакансий по указанному фильтру\n",
    "        quantity_vacs = rq_api_hh.get('found')\n",
    "        print(quantity_vacs)\n",
    "#         записываем максимальную дату создания, чтобы от нее в дальнейшем вести отсчет\n",
    "        date_to = df_test['created_at'].loc[0]\n",
    "        filter_vacs_dict['date_to'] = date_to[0:10]\n",
    "\n",
    "# так как выгружаем по датам - нахлестом на один день, то будут дубли, удаляем их\n",
    "vacs_id = pd.Series(pd.Series(vacs_id).unique()).tolist()\n",
    "\n",
    "df_vacs_id_new = pd.DataFrame(pd.Series(pd.to_numeric(pd.Series(vacs_id).unique())), columns=['id_new'])"
   ],
   "metadata": {
    "collapsed": false,
    "pycharm": {
     "name": "#%%\n"
    }
   }
  },
  {
   "cell_type": "code",
   "execution_count": 34,
   "outputs": [
    {
     "name": "stdout",
     "output_type": "stream",
     "text": [
      "9\n"
     ]
    },
    {
     "data": {
      "text/plain": "            id                                        description  \\\n0     44326135  <p><strong>Если ты:</strong></p> <p> </p> <ul>...   \n1     44326087  <p>Задача клиентского менеджера ― продавать пр...   \n2     44326154  <p>Задача клиентского менеджера ― продавать пр...   \n3     44326053  <p>Задача клиентского менеджера ― продавать пр...   \n4     44326143  <p>Задача клиентского менеджера ― продавать пр...   \n...        ...                                                ...   \n5920  50351941  <p><strong>Клиентский менеджер малого и микроб...   \n5921  50351980  <p>Менеджер по продаже зарплатных проектов — в...   \n5922  50352016  <p><b>Доход 45 600 руб до вычета НДФЛ</b></p><...   \n5923  48340889  <p><strong>Описание проекта:</strong></p> <p>Н...   \n5924  48719220  <p><strong>О компании:</strong></p> <p>Сбер – ...   \n\n                                             key_skills  \\\n0                                                    []   \n1                                                    []   \n2     [{'name': 'Активные продажи'}, {'name': 'Креди...   \n3     [{'name': 'Активные продажи'}, {'name': 'Прямы...   \n4     [{'name': 'Активные продажи'}, {'name': 'Креди...   \n...                                                 ...   \n5920  [{'name': 'Деловая переписка'}, {'name': 'Обуч...   \n5921                                                 []   \n5922                                                 []   \n5923                                                 []   \n5924  [{'name': 'SQL'}, {'name': 'Java'}, {'name': '...   \n\n                                      schedule  \\\n0     {'id': 'fullDay', 'name': 'Полный день'}   \n1     {'id': 'fullDay', 'name': 'Полный день'}   \n2     {'id': 'fullDay', 'name': 'Полный день'}   \n3     {'id': 'fullDay', 'name': 'Полный день'}   \n4     {'id': 'fullDay', 'name': 'Полный день'}   \n...                                        ...   \n5920  {'id': 'fullDay', 'name': 'Полный день'}   \n5921  {'id': 'fullDay', 'name': 'Полный день'}   \n5922  {'id': 'fullDay', 'name': 'Полный день'}   \n5923  {'id': 'fullDay', 'name': 'Полный день'}   \n5924  {'id': 'fullDay', 'name': 'Полный день'}   \n\n                                             experience code  \\\n0     {'id': 'between1And3', 'name': 'От 1 года до 3...  NaN   \n1           {'id': 'noExperience', 'name': 'Нет опыта'}  NaN   \n2           {'id': 'noExperience', 'name': 'Нет опыта'}  NaN   \n3           {'id': 'noExperience', 'name': 'Нет опыта'}  NaN   \n4           {'id': 'noExperience', 'name': 'Нет опыта'}  NaN   \n...                                                 ...  ...   \n5920  {'id': 'between1And3', 'name': 'От 1 года до 3...  NaN   \n5921  {'id': 'between1And3', 'name': 'От 1 года до 3...  NaN   \n5922  {'id': 'between1And3', 'name': 'От 1 года до 3...  NaN   \n5923  {'id': 'between1And3', 'name': 'От 1 года до 3...  NaN   \n5924  {'id': 'between1And3', 'name': 'От 1 года до 3...  NaN   \n\n                                             department  \\\n0     {'id': '3529-3529-stat', 'name': 'Сбер. Начало...   \n1     {'id': '3529-3529-stat', 'name': 'Сбер. Начало...   \n2     {'id': '3529-3529-stat', 'name': 'Сбер. Начало...   \n3     {'id': '3529-3529-clients', 'name': 'Сбер. Раб...   \n4     {'id': '3529-3529-stat', 'name': 'Сбер. Начало...   \n...                                                 ...   \n5920  {'id': '3529-3529-prof', 'name': 'Сбер для экс...   \n5921  {'id': '3529-3529-prof', 'name': 'Сбер для экс...   \n5922  {'id': '3529-3529-prof', 'name': 'Сбер для экс...   \n5923         {'id': '3529-3529-it', 'name': 'Сбер. IT'}   \n5924         {'id': '3529-3529-it', 'name': 'Сбер. IT'}   \n\n                                      employment  \\\n0     {'id': 'full', 'name': 'Полная занятость'}   \n1     {'id': 'full', 'name': 'Полная занятость'}   \n2     {'id': 'full', 'name': 'Полная занятость'}   \n3     {'id': 'full', 'name': 'Полная занятость'}   \n4     {'id': 'full', 'name': 'Полная занятость'}   \n...                                          ...   \n5920  {'id': 'full', 'name': 'Полная занятость'}   \n5921  {'id': 'full', 'name': 'Полная занятость'}   \n5922  {'id': 'full', 'name': 'Полная занятость'}   \n5923  {'id': 'full', 'name': 'Полная занятость'}   \n5924  {'id': 'full', 'name': 'Полная занятость'}   \n\n                                                 salary  archived  ...  \\\n0     {'from': 33000, 'to': None, 'currency': 'RUR',...     False  ...   \n1     {'from': 35900, 'to': None, 'currency': 'RUR',...     False  ...   \n2     {'from': 35000, 'to': None, 'currency': 'RUR',...     False  ...   \n3     {'from': 42500, 'to': None, 'currency': 'RUR',...     False  ...   \n4     {'from': 29700, 'to': None, 'currency': 'RUR',...     False  ...   \n...                                                 ...       ...  ...   \n5920  {'from': 35900, 'to': None, 'currency': 'RUR',...     False  ...   \n5921  {'from': 80000, 'to': None, 'currency': 'RUR',...     False  ...   \n5922  {'from': 45600, 'to': None, 'currency': 'RUR',...     False  ...   \n5923                                                NaN     False  ...   \n5924                                                NaN     False  ...   \n\n                                               employer  \\\n0     {'id': '3529', 'name': 'Сбербанк', 'url': 'htt...   \n1     {'id': '3529', 'name': 'Сбербанк', 'url': 'htt...   \n2     {'id': '3529', 'name': 'Сбербанк', 'url': 'htt...   \n3     {'id': '3529', 'name': 'Сбербанк', 'url': 'htt...   \n4     {'id': '3529', 'name': 'Сбербанк', 'url': 'htt...   \n...                                                 ...   \n5920  {'id': '3529', 'name': 'Сбербанк', 'url': 'htt...   \n5921  {'id': '3529', 'name': 'Сбербанк', 'url': 'htt...   \n5922  {'id': '3529', 'name': 'Сбербанк', 'url': 'htt...   \n5923  {'id': '3529', 'name': 'Сбербанк', 'url': 'htt...   \n5924  {'id': '3529', 'name': 'Сбербанк', 'url': 'htt...   \n\n                                       type has_test test specialization  \\\n0     {'id': 'direct', 'name': 'Рекламная'}    False  NaN            NaN   \n1     {'id': 'direct', 'name': 'Рекламная'}    False  NaN            NaN   \n2     {'id': 'direct', 'name': 'Рекламная'}    False  NaN            NaN   \n3     {'id': 'direct', 'name': 'Рекламная'}    False  NaN            NaN   \n4     {'id': 'direct', 'name': 'Рекламная'}    False  NaN            NaN   \n...                                     ...      ...  ...            ...   \n5920     {'id': 'open', 'name': 'Открытая'}    False  NaN            NaN   \n5921     {'id': 'open', 'name': 'Открытая'}    False  NaN            NaN   \n5922     {'id': 'open', 'name': 'Открытая'}    False  NaN            NaN   \n5923     {'id': 'open', 'name': 'Открытая'}    False  NaN            NaN   \n5924     {'id': 'open', 'name': 'Открытая'}    False  NaN            NaN   \n\n                                               contacts  working_days  \\\n0                                                   NaN            []   \n1                                                   NaN            []   \n2                                                   NaN            []   \n3                                                   NaN            []   \n4                                                   NaN            []   \n...                                                 ...           ...   \n5920  {'name': 'Никитина Ксения', 'email': 'kynikiti...            []   \n5921  {'name': 'Команда подбора персонала Сбера', 'e...            []   \n5922  {'name': 'Никитина Ксения', 'email': 'kynikiti...            []   \n5923                                                NaN            []   \n5924                                                NaN            []   \n\n     working_time_intervals  working_time_modes accept_temporary  \n0                        []                  []            False  \n1                        []                  []            False  \n2                        []                  []            False  \n3                        []                  []            False  \n4                        []                  []            False  \n...                     ...                 ...              ...  \n5920                     []                  []            False  \n5921                     []                  []            False  \n5922                     []                  []            False  \n5923                     []                  []            False  \n5924                     []                  []            False  \n\n[5925 rows x 24 columns]",
      "text/html": "<div>\n<style scoped>\n    .dataframe tbody tr th:only-of-type {\n        vertical-align: middle;\n    }\n\n    .dataframe tbody tr th {\n        vertical-align: top;\n    }\n\n    .dataframe thead th {\n        text-align: right;\n    }\n</style>\n<table border=\"1\" class=\"dataframe\">\n  <thead>\n    <tr style=\"text-align: right;\">\n      <th></th>\n      <th>id</th>\n      <th>description</th>\n      <th>key_skills</th>\n      <th>schedule</th>\n      <th>experience</th>\n      <th>code</th>\n      <th>department</th>\n      <th>employment</th>\n      <th>salary</th>\n      <th>archived</th>\n      <th>...</th>\n      <th>employer</th>\n      <th>type</th>\n      <th>has_test</th>\n      <th>test</th>\n      <th>specialization</th>\n      <th>contacts</th>\n      <th>working_days</th>\n      <th>working_time_intervals</th>\n      <th>working_time_modes</th>\n      <th>accept_temporary</th>\n    </tr>\n  </thead>\n  <tbody>\n    <tr>\n      <th>0</th>\n      <td>44326135</td>\n      <td>&lt;p&gt;&lt;strong&gt;Если ты:&lt;/strong&gt;&lt;/p&gt; &lt;p&gt; &lt;/p&gt; &lt;ul&gt;...</td>\n      <td>[]</td>\n      <td>{'id': 'fullDay', 'name': 'Полный день'}</td>\n      <td>{'id': 'between1And3', 'name': 'От 1 года до 3...</td>\n      <td>NaN</td>\n      <td>{'id': '3529-3529-stat', 'name': 'Сбер. Начало...</td>\n      <td>{'id': 'full', 'name': 'Полная занятость'}</td>\n      <td>{'from': 33000, 'to': None, 'currency': 'RUR',...</td>\n      <td>False</td>\n      <td>...</td>\n      <td>{'id': '3529', 'name': 'Сбербанк', 'url': 'htt...</td>\n      <td>{'id': 'direct', 'name': 'Рекламная'}</td>\n      <td>False</td>\n      <td>NaN</td>\n      <td>NaN</td>\n      <td>NaN</td>\n      <td>[]</td>\n      <td>[]</td>\n      <td>[]</td>\n      <td>False</td>\n    </tr>\n    <tr>\n      <th>1</th>\n      <td>44326087</td>\n      <td>&lt;p&gt;Задача клиентского менеджера ― продавать пр...</td>\n      <td>[]</td>\n      <td>{'id': 'fullDay', 'name': 'Полный день'}</td>\n      <td>{'id': 'noExperience', 'name': 'Нет опыта'}</td>\n      <td>NaN</td>\n      <td>{'id': '3529-3529-stat', 'name': 'Сбер. Начало...</td>\n      <td>{'id': 'full', 'name': 'Полная занятость'}</td>\n      <td>{'from': 35900, 'to': None, 'currency': 'RUR',...</td>\n      <td>False</td>\n      <td>...</td>\n      <td>{'id': '3529', 'name': 'Сбербанк', 'url': 'htt...</td>\n      <td>{'id': 'direct', 'name': 'Рекламная'}</td>\n      <td>False</td>\n      <td>NaN</td>\n      <td>NaN</td>\n      <td>NaN</td>\n      <td>[]</td>\n      <td>[]</td>\n      <td>[]</td>\n      <td>False</td>\n    </tr>\n    <tr>\n      <th>2</th>\n      <td>44326154</td>\n      <td>&lt;p&gt;Задача клиентского менеджера ― продавать пр...</td>\n      <td>[{'name': 'Активные продажи'}, {'name': 'Креди...</td>\n      <td>{'id': 'fullDay', 'name': 'Полный день'}</td>\n      <td>{'id': 'noExperience', 'name': 'Нет опыта'}</td>\n      <td>NaN</td>\n      <td>{'id': '3529-3529-stat', 'name': 'Сбер. Начало...</td>\n      <td>{'id': 'full', 'name': 'Полная занятость'}</td>\n      <td>{'from': 35000, 'to': None, 'currency': 'RUR',...</td>\n      <td>False</td>\n      <td>...</td>\n      <td>{'id': '3529', 'name': 'Сбербанк', 'url': 'htt...</td>\n      <td>{'id': 'direct', 'name': 'Рекламная'}</td>\n      <td>False</td>\n      <td>NaN</td>\n      <td>NaN</td>\n      <td>NaN</td>\n      <td>[]</td>\n      <td>[]</td>\n      <td>[]</td>\n      <td>False</td>\n    </tr>\n    <tr>\n      <th>3</th>\n      <td>44326053</td>\n      <td>&lt;p&gt;Задача клиентского менеджера ― продавать пр...</td>\n      <td>[{'name': 'Активные продажи'}, {'name': 'Прямы...</td>\n      <td>{'id': 'fullDay', 'name': 'Полный день'}</td>\n      <td>{'id': 'noExperience', 'name': 'Нет опыта'}</td>\n      <td>NaN</td>\n      <td>{'id': '3529-3529-clients', 'name': 'Сбер. Раб...</td>\n      <td>{'id': 'full', 'name': 'Полная занятость'}</td>\n      <td>{'from': 42500, 'to': None, 'currency': 'RUR',...</td>\n      <td>False</td>\n      <td>...</td>\n      <td>{'id': '3529', 'name': 'Сбербанк', 'url': 'htt...</td>\n      <td>{'id': 'direct', 'name': 'Рекламная'}</td>\n      <td>False</td>\n      <td>NaN</td>\n      <td>NaN</td>\n      <td>NaN</td>\n      <td>[]</td>\n      <td>[]</td>\n      <td>[]</td>\n      <td>False</td>\n    </tr>\n    <tr>\n      <th>4</th>\n      <td>44326143</td>\n      <td>&lt;p&gt;Задача клиентского менеджера ― продавать пр...</td>\n      <td>[{'name': 'Активные продажи'}, {'name': 'Креди...</td>\n      <td>{'id': 'fullDay', 'name': 'Полный день'}</td>\n      <td>{'id': 'noExperience', 'name': 'Нет опыта'}</td>\n      <td>NaN</td>\n      <td>{'id': '3529-3529-stat', 'name': 'Сбер. Начало...</td>\n      <td>{'id': 'full', 'name': 'Полная занятость'}</td>\n      <td>{'from': 29700, 'to': None, 'currency': 'RUR',...</td>\n      <td>False</td>\n      <td>...</td>\n      <td>{'id': '3529', 'name': 'Сбербанк', 'url': 'htt...</td>\n      <td>{'id': 'direct', 'name': 'Рекламная'}</td>\n      <td>False</td>\n      <td>NaN</td>\n      <td>NaN</td>\n      <td>NaN</td>\n      <td>[]</td>\n      <td>[]</td>\n      <td>[]</td>\n      <td>False</td>\n    </tr>\n    <tr>\n      <th>...</th>\n      <td>...</td>\n      <td>...</td>\n      <td>...</td>\n      <td>...</td>\n      <td>...</td>\n      <td>...</td>\n      <td>...</td>\n      <td>...</td>\n      <td>...</td>\n      <td>...</td>\n      <td>...</td>\n      <td>...</td>\n      <td>...</td>\n      <td>...</td>\n      <td>...</td>\n      <td>...</td>\n      <td>...</td>\n      <td>...</td>\n      <td>...</td>\n      <td>...</td>\n      <td>...</td>\n    </tr>\n    <tr>\n      <th>5920</th>\n      <td>50351941</td>\n      <td>&lt;p&gt;&lt;strong&gt;Клиентский менеджер малого и микроб...</td>\n      <td>[{'name': 'Деловая переписка'}, {'name': 'Обуч...</td>\n      <td>{'id': 'fullDay', 'name': 'Полный день'}</td>\n      <td>{'id': 'between1And3', 'name': 'От 1 года до 3...</td>\n      <td>NaN</td>\n      <td>{'id': '3529-3529-prof', 'name': 'Сбер для экс...</td>\n      <td>{'id': 'full', 'name': 'Полная занятость'}</td>\n      <td>{'from': 35900, 'to': None, 'currency': 'RUR',...</td>\n      <td>False</td>\n      <td>...</td>\n      <td>{'id': '3529', 'name': 'Сбербанк', 'url': 'htt...</td>\n      <td>{'id': 'open', 'name': 'Открытая'}</td>\n      <td>False</td>\n      <td>NaN</td>\n      <td>NaN</td>\n      <td>{'name': 'Никитина Ксения', 'email': 'kynikiti...</td>\n      <td>[]</td>\n      <td>[]</td>\n      <td>[]</td>\n      <td>False</td>\n    </tr>\n    <tr>\n      <th>5921</th>\n      <td>50351980</td>\n      <td>&lt;p&gt;Менеджер по продаже зарплатных проектов — в...</td>\n      <td>[]</td>\n      <td>{'id': 'fullDay', 'name': 'Полный день'}</td>\n      <td>{'id': 'between1And3', 'name': 'От 1 года до 3...</td>\n      <td>NaN</td>\n      <td>{'id': '3529-3529-prof', 'name': 'Сбер для экс...</td>\n      <td>{'id': 'full', 'name': 'Полная занятость'}</td>\n      <td>{'from': 80000, 'to': None, 'currency': 'RUR',...</td>\n      <td>False</td>\n      <td>...</td>\n      <td>{'id': '3529', 'name': 'Сбербанк', 'url': 'htt...</td>\n      <td>{'id': 'open', 'name': 'Открытая'}</td>\n      <td>False</td>\n      <td>NaN</td>\n      <td>NaN</td>\n      <td>{'name': 'Команда подбора персонала Сбера', 'e...</td>\n      <td>[]</td>\n      <td>[]</td>\n      <td>[]</td>\n      <td>False</td>\n    </tr>\n    <tr>\n      <th>5922</th>\n      <td>50352016</td>\n      <td>&lt;p&gt;&lt;b&gt;Доход 45 600 руб до вычета НДФЛ&lt;/b&gt;&lt;/p&gt;&lt;...</td>\n      <td>[]</td>\n      <td>{'id': 'fullDay', 'name': 'Полный день'}</td>\n      <td>{'id': 'between1And3', 'name': 'От 1 года до 3...</td>\n      <td>NaN</td>\n      <td>{'id': '3529-3529-prof', 'name': 'Сбер для экс...</td>\n      <td>{'id': 'full', 'name': 'Полная занятость'}</td>\n      <td>{'from': 45600, 'to': None, 'currency': 'RUR',...</td>\n      <td>False</td>\n      <td>...</td>\n      <td>{'id': '3529', 'name': 'Сбербанк', 'url': 'htt...</td>\n      <td>{'id': 'open', 'name': 'Открытая'}</td>\n      <td>False</td>\n      <td>NaN</td>\n      <td>NaN</td>\n      <td>{'name': 'Никитина Ксения', 'email': 'kynikiti...</td>\n      <td>[]</td>\n      <td>[]</td>\n      <td>[]</td>\n      <td>False</td>\n    </tr>\n    <tr>\n      <th>5923</th>\n      <td>48340889</td>\n      <td>&lt;p&gt;&lt;strong&gt;Описание проекта:&lt;/strong&gt;&lt;/p&gt; &lt;p&gt;Н...</td>\n      <td>[]</td>\n      <td>{'id': 'fullDay', 'name': 'Полный день'}</td>\n      <td>{'id': 'between1And3', 'name': 'От 1 года до 3...</td>\n      <td>NaN</td>\n      <td>{'id': '3529-3529-it', 'name': 'Сбер. IT'}</td>\n      <td>{'id': 'full', 'name': 'Полная занятость'}</td>\n      <td>NaN</td>\n      <td>False</td>\n      <td>...</td>\n      <td>{'id': '3529', 'name': 'Сбербанк', 'url': 'htt...</td>\n      <td>{'id': 'open', 'name': 'Открытая'}</td>\n      <td>False</td>\n      <td>NaN</td>\n      <td>NaN</td>\n      <td>NaN</td>\n      <td>[]</td>\n      <td>[]</td>\n      <td>[]</td>\n      <td>False</td>\n    </tr>\n    <tr>\n      <th>5924</th>\n      <td>48719220</td>\n      <td>&lt;p&gt;&lt;strong&gt;О компании:&lt;/strong&gt;&lt;/p&gt; &lt;p&gt;Сбер – ...</td>\n      <td>[{'name': 'SQL'}, {'name': 'Java'}, {'name': '...</td>\n      <td>{'id': 'fullDay', 'name': 'Полный день'}</td>\n      <td>{'id': 'between1And3', 'name': 'От 1 года до 3...</td>\n      <td>NaN</td>\n      <td>{'id': '3529-3529-it', 'name': 'Сбер. IT'}</td>\n      <td>{'id': 'full', 'name': 'Полная занятость'}</td>\n      <td>NaN</td>\n      <td>False</td>\n      <td>...</td>\n      <td>{'id': '3529', 'name': 'Сбербанк', 'url': 'htt...</td>\n      <td>{'id': 'open', 'name': 'Открытая'}</td>\n      <td>False</td>\n      <td>NaN</td>\n      <td>NaN</td>\n      <td>NaN</td>\n      <td>[]</td>\n      <td>[]</td>\n      <td>[]</td>\n      <td>False</td>\n    </tr>\n  </tbody>\n</table>\n<p>5925 rows × 24 columns</p>\n</div>"
     },
     "execution_count": 34,
     "metadata": {},
     "output_type": "execute_result"
    }
   ],
   "source": [
    "if os.path.exists('HH_api/data/download_source.csv'):\n",
    "    # исключаем закрытые вакансии\n",
    "    df_vacs_id_old = df_vacs_id_old[(pd.merge(df_vacs_id_old, df_vacs_id_new,\n",
    "                                              how='left', right_on='id_new', left_on='id_old'))['id_new'].notna()]\n",
    "\n",
    "    vacancies = vacancies[pd.merge(vacancies, df_vacs_id_old, how='left'\n",
    "                                   , left_on='id', right_on='id_old')['id_old'].notna()]\n",
    "    vacancies = vacancies.reset_index().drop(columns='index')\n",
    "\n",
    "    # оставляем только вакансии, которых не было в сохраненной выгрухке из файла\n",
    "    vacs_id = df_vacs_id_new[pd.merge(df_vacs_id_old, df_vacs_id_new,\n",
    "                                      how='right', right_on='id_new',\n",
    "                                      left_on='id_old')['id_old'].isna()]['id_new'].astype(str).to_list()\n",
    "\n",
    "print(len(vacs_id))\n",
    "vacancies"
   ],
   "metadata": {
    "collapsed": false,
    "pycharm": {
     "name": "#%%\n"
    }
   }
  },
  {
   "cell_type": "code",
   "execution_count": 35,
   "outputs": [
    {
     "name": "stderr",
     "output_type": "stream",
     "text": [
      "100%|██████████| 9/9 [00:02<00:00,  3.41it/s]\n"
     ]
    }
   ],
   "source": [
    "ls_errors = []\n",
    "# DF в который записываем с каким кодом получили данные по вакансии\n",
    "df_log = pd.DataFrame(columns={'hyperlink', 'vacation_id', 'rq_alt_url'})\n",
    "\n",
    "if len(vacs_id) != 0:\n",
    "    for i in tqdm(range(len(vacs_id))):\n",
    "        rq_api_hh_vac = rq.get('https://api.hh.ru/vacancies/' + vacs_id[i]\n",
    "                               , headers={list(filter_vacs_dict.keys())[0]: list(filter_vacs_dict.values())[0]})\n",
    "        # если получаем ошибку 403, то нас отрубают, так как слишком много запросов отправляем\n",
    "        # поэтому ждем 5 минут и пробуем снова получить данные по вакансии пока не получим код 200\n",
    "        # while rq_api_hh_vac.status_code == 403:\n",
    "        if rq_api_hh_vac.status_code == 403:\n",
    "            print('https://api.hh.ru/vacancies/' + vacs_id[i])\n",
    "            ls_errors.append(rq_api_hh_vac)\n",
    "            # print(rq_api_hh_vac.json())\n",
    "            print('Получили код ошибки 403. Ждем 5 минут и отправляем запрос заново.')\n",
    "            # time.sleep(5*60)\n",
    "            # rq_api_hh_vac = rq.get('https://api.hh.ru/vacancies/' + vacs_id[i]\n",
    "            #                        , headers={list(filter_vacs_dict.keys())[0]: list(filter_vacs_dict.values())[0]})\n",
    "            continue\n",
    "        # если получаем код ответа 200, то записываем в DF данные вакансии\n",
    "        if rq_api_hh_vac.status_code == 502:\n",
    "            print('https://api.hh.ru/vacancies/' + vacs_id[i])\n",
    "            print(rq_api_hh_vac.json())\n",
    "            print('Получили код ошибки 502. Ждем 10 сек и отправляем запрос заново.')\n",
    "            time.sleep(10)\n",
    "            rq_api_hh_vac = rq.get('https://api.hh.ru/vacancies/' + vacs_id[i]\n",
    "                                   , headers={list(filter_vacs_dict.keys())[0]: list(filter_vacs_dict.values())[0]})\n",
    "        if rq_api_hh_vac.status_code == 200:\n",
    "            vacancies.loc[len(vacancies)] = [rq_api_hh_vac.json().get(it) for it in ls_columns]\n",
    "        else:\n",
    "            # иначе выводим в лог идентификатор вакансии и код ошибки от api\n",
    "            print('Вакансия с ID: ' + str(vacs_id[i]) + '; получили ошибку: ' + str(rq_api_hh_vac.status_code))\n",
    "            continue\n",
    "        # записываем лог\n",
    "        df_log.loc[len(df_log)] = ['https://api.hh.ru/vacancies/' + vacs_id[i]\n",
    "            , vacs_id[i]\n",
    "            , rq_api_hh_vac.json().get('alternate_url')]\n",
    "    # выгружаем данные в файл, чтобы не грузить api огромным количеством запросов каждый запуск\n",
    "    vacancies.to_csv('HH_api/data/download_source.csv')\n",
    "else:\n",
    "    print('Новых вакансий не обнаружено')"
   ],
   "metadata": {
    "collapsed": false,
    "pycharm": {
     "name": "#%%\n"
    }
   }
  },
  {
   "cell_type": "code",
   "execution_count": 36,
   "outputs": [
    {
     "name": "stderr",
     "output_type": "stream",
     "text": [
      "C:\\Users\\iKerng\\anaconda3\\lib\\site-packages\\pandas\\core\\indexing.py:670: SettingWithCopyWarning: \n",
      "A value is trying to be set on a copy of a slice from a DataFrame\n",
      "\n",
      "See the caveats in the documentation: https://pandas.pydata.org/pandas-docs/stable/user_guide/indexing.html#returning-a-view-versus-a-copy\n",
      "  iloc._setitem_with_indexer(indexer, value)\n"
     ]
    }
   ],
   "source": [
    "df_parsed_vacancies = vacancies.copy()\n",
    "\n",
    "#  парсим выгрузку в df\n",
    "# убираме HTML символы из описания вакансий\n",
    "df_parsed_vacancies.description = df_parsed_vacancies.description.apply(lambda x: re.sub(r\"\\<[^>]*\\>\", '', x))\n",
    "df_parsed_vacancies.description = df_parsed_vacancies.description.apply(lambda x: str(x).replace('\\r\\n', ''))\n",
    "\n",
    "df_parsed_vacancies.key_skills = df_parsed_vacancies.key_skills.astype(str)\n",
    "df_parsed_vacancies.key_skills = df_parsed_vacancies.key_skills.apply(lambda x: ast.literal_eval(x))\n",
    "df_parsed_vacancies.key_skills = df_parsed_vacancies.key_skills.\\\n",
    "    apply(lambda x: '; '.join([list(x[i].values())[0] for i in range(len(x))]))\n",
    "\n",
    "ls_cols_pars = ['schedule', 'experience', 'department', 'employment']\n",
    "\n",
    "for i in ls_cols_pars:\n",
    "    df_parsed_vacancies[i] = df_parsed_vacancies[i].astype(str)\n",
    "    df_parsed_vacancies[i] = df_parsed_vacancies[i].apply(lambda x: ast.literal_eval(x))\n",
    "    df_parsed_vacancies[i] = df_parsed_vacancies[i].apply(lambda x: list(x.values())[1])\n",
    "\n",
    "\n",
    "for col_name in ['salary', 'area', 'employer', 'type']:\n",
    "    df_parsed_vacancies[col_name] = df_parsed_vacancies[col_name].astype(str)\n",
    "    df_parsed_vacancies['temp_len'] = 0\n",
    "    df_parsed_vacancies['temp_name_exist'] = 0\n",
    "    df_parsed_vacancies[col_name + '_str'] = 'nan'\n",
    "    for i in df_parsed_vacancies[df_parsed_vacancies[col_name] != 'nan'].index.to_list():\n",
    "        df_parsed_vacancies['temp_len'].iloc[i] = len(ast.literal_eval(df_parsed_vacancies[col_name].iloc[i]))\n",
    "        df_parsed_vacancies['temp_name_exist'].iloc[i] = \\\n",
    "            [1 if list(ast.literal_eval(df_parsed_vacancies[col_name].iloc[i]).keys()).count('name') > 0 else 0][0]\n",
    "        if df_parsed_vacancies['temp_name_exist'].max() > 0:\n",
    "            df_parsed_vacancies[col_name + '_str'].iloc[i] = ast.literal_eval(df_parsed_vacancies[col_name].iloc[i]).\\\n",
    "                get('name')\n",
    "        else:\n",
    "            temp_dict_values = ast.literal_eval(df_parsed_vacancies[col_name].iloc[i])\n",
    "            key_names = list(temp_dict_values.keys())\n",
    "            temp_string = 'от '+ str(temp_dict_values.get(key_names[0])) + \\\n",
    "                ' до ' + str(temp_dict_values.get(key_names[1])) + ' ' + str(temp_dict_values.get(key_names[2])) + \\\n",
    "                ' ' + str(temp_dict_values.get(key_names[3]))\n",
    "            temp_string = (((temp_string.replace('до None', '')).replace('RUR', 'руб.')).replace('True', 'гросс')).\\\n",
    "                replace('nan', '')\n",
    "            df_parsed_vacancies[col_name + '_str'].iloc[i] = temp_string\n",
    "\n",
    "\n",
    "df_parsed_vacancies = df_parsed_vacancies.\\\n",
    "    drop(columns=['salary', 'area', 'employer', 'type' \\\n",
    "    , 'temp_len', 'temp_name_exist', 'specialization', \\\n",
    "                  'working_days', 'working_time_intervals', 'working_time_modes', 'accept_temporary'])\n",
    "\n",
    "\n",
    "df_parsed_vacancies['contacts'] = df_parsed_vacancies['contacts'].astype(str)\n",
    "df_parsed_vacancies['hr'] = 'nan'\n",
    "df_parsed_vacancies['hr_email'] = 'nan'\n",
    "df_parsed_vacancies['hr_phones'] = 'nan'\n",
    "for i in range(len(df_parsed_vacancies[df_parsed_vacancies['contacts'] != 'nan'])):\n",
    "    temp_contacts = ast.literal_eval(df_parsed_vacancies[df_parsed_vacancies['contacts'] != 'nan']['contacts'].iloc[i])\n",
    "    temp_phones = temp_contacts.pop('phones')\n",
    "    temp_all_phones = []\n",
    "    if len(temp_phones) != 0:\n",
    "        for tp_i in range(len(temp_phones)):\n",
    "            if len(temp_phones[tp_i]) == 0:\n",
    "                continue\n",
    "            else:\n",
    "                temp_all_phones.append('+' + str(temp_phones[tp_i].pop('country')).replace('None', '') \\\n",
    "                              + str(temp_phones[tp_i].pop('city')).replace('None', '') \\\n",
    "                              + str(temp_phones[tp_i].pop('number')).replace('None', '')\n",
    "                              + (' ' + str(temp_phones[tp_i].pop('comment'))).replace(' None', ''))\n",
    "    # else: temp_phones = 'nan'\n",
    "    if len(temp_all_phones) == 0: temp_all_phones = 'nan'\n",
    "    temp_hr = temp_contacts.pop('name')\n",
    "    temp_email = temp_contacts.pop('email')\n",
    "    df_parsed_vacancies['hr'].iloc[i] = temp_hr\n",
    "    df_parsed_vacancies['hr_email'].iloc[i] = temp_email\n",
    "    df_parsed_vacancies['hr_phones'].iloc[i] = temp_all_phones\n",
    "df_parsed_vacancies = df_parsed_vacancies.drop(columns=['contacts'])\n",
    "\n",
    "df_parsed_vacancies.to_csv('HH_api/data/result.csv', encoding='cp1251', errors='ignore')\n"
   ],
   "metadata": {
    "collapsed": false,
    "pycharm": {
     "name": "#%%\n"
    }
   }
  }
 ],
 "metadata": {
  "kernelspec": {
   "name": "pycharm-f169a146",
   "language": "python",
   "display_name": "PyCharm (School_DA)"
  },
  "language_info": {
   "codemirror_mode": {
    "name": "ipython",
    "version": 2
   },
   "file_extension": ".py",
   "mimetype": "text/x-python",
   "name": "python",
   "nbconvert_exporter": "python",
   "pygments_lexer": "ipython2",
   "version": "2.7.6"
  }
 },
 "nbformat": 4,
 "nbformat_minor": 0
}