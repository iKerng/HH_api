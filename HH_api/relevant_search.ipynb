{
 "cells": [
  {
   "cell_type": "code",
   "execution_count": 1,
   "metadata": {
    "collapsed": true
   },
   "outputs": [],
   "source": [
    "import pandas as pd\n",
    "import os.path\n",
    "import re\n",
    "import sqlite3 as sql"
   ]
  },
  {
   "cell_type": "code",
   "execution_count": 3,
   "outputs": [],
   "source": [
    "\n",
    "df = pd.read_csv('HH_api/data/result.csv', encoding='cp1251')\n",
    "df = df.drop(columns='Unnamed: 0')\n",
    "df['lower_description'] = df.description.str.lower()\n",
    "df['lower_area'] = df['area_str'].str.lower()\n",
    "df['lower_key_skills'] = df['key_skills'].str.lower()"
   ],
   "metadata": {
    "collapsed": false,
    "pycharm": {
     "name": "#%%\n"
    }
   }
  },
  {
   "cell_type": "code",
   "execution_count": 87,
   "outputs": [
    {
     "name": "stdout",
     "output_type": "stream",
     "text": [
      "(.* da .*)|(.* da,.*)|(.* da..*)|(.*data analyst.*)|(.*аналитик данных.*)\n"
     ]
    },
    {
     "data": {
      "text/plain": "Empty DataFrame\nColumns: [id, description, key_skills, schedule, experience, code, department, employment, archived, name, created_at, published_at, has_test, test, salary_str, area_str, employer_str, type_str, hr, hr_email, hr_phones]\nIndex: []\n\n[0 rows x 21 columns]",
      "text/html": "<div>\n<style scoped>\n    .dataframe tbody tr th:only-of-type {\n        vertical-align: middle;\n    }\n\n    .dataframe tbody tr th {\n        vertical-align: top;\n    }\n\n    .dataframe thead th {\n        text-align: right;\n    }\n</style>\n<table border=\"1\" class=\"dataframe\">\n  <thead>\n    <tr style=\"text-align: right;\">\n      <th></th>\n      <th>id</th>\n      <th>description</th>\n      <th>key_skills</th>\n      <th>schedule</th>\n      <th>experience</th>\n      <th>code</th>\n      <th>department</th>\n      <th>employment</th>\n      <th>archived</th>\n      <th>name</th>\n      <th>...</th>\n      <th>published_at</th>\n      <th>has_test</th>\n      <th>test</th>\n      <th>salary_str</th>\n      <th>area_str</th>\n      <th>employer_str</th>\n      <th>type_str</th>\n      <th>hr</th>\n      <th>hr_email</th>\n      <th>hr_phones</th>\n    </tr>\n  </thead>\n  <tbody>\n  </tbody>\n</table>\n<p>0 rows × 21 columns</p>\n</div>"
     },
     "execution_count": 87,
     "metadata": {},
     "output_type": "execute_result"
    }
   ],
   "source": [
    "# df_res = df.head(0)\n",
    "# # df_res\n",
    "# # (df['description'].iloc[0]).find(' хочешь ')\n",
    "# # ls_and = ['data', 'аналитик', 'данных', 'analyst']\n",
    "# ls_or = [' da ', ' da,', ' da.', 'data analyst', 'аналитик данных']\n",
    "#\n",
    "# search_string = ''\n",
    "# for phrase in  ls_or:\n",
    "#     if phrase != ls_or[-1]:\n",
    "#         search_string = search_string + '(.*'+phrase+'.*)|'\n",
    "#     else:\n",
    "#         search_string = search_string + '(.*'+phrase+'.*)'\n",
    "# print(search_string)\n",
    "#\n",
    "#\n",
    "# for i in range(len(df)):\n",
    "#     temp_index = 9999999\n",
    "#     # if re.search(search_string, str.lower(df['description'].iloc[i])) != None \\\n",
    "#     if (len(re.findall(search_string, str.lower(df['description'].iloc[i]))) > 0) \\\n",
    "#             and (str.lower(df['area_str'].iloc[0]) == 'москва'):\n",
    "#         temp_index = i\n",
    "#     if temp_index != 9999999:\n",
    "#         df_res = df_res.append(df.iloc[i])\n",
    "#\n",
    "# df_res"
   ],
   "metadata": {
    "collapsed": false,
    "pycharm": {
     "name": "#%%\n"
    }
   }
  },
  {
   "cell_type": "code",
   "execution_count": 5,
   "outputs": [],
   "source": [
    "sql_db = sql.connect('HH_api/data/sql_res.db')\n",
    "sql_con = sql_db.cursor()\n"
   ],
   "metadata": {
    "collapsed": false,
    "pycharm": {
     "name": "#%%\n"
    }
   }
  },
  {
   "cell_type": "code",
   "execution_count": 9,
   "outputs": [],
   "source": [
    "# sql_con.execute('drop table vacs')\n",
    "\n",
    "df.to_sql('vacs', sql_db, if_exists='replace', index=False)\n",
    "\n",
    "pd.DataFrame(sql_con.execute('''\n",
    "SELECT\n",
    "\t'https://hh.ru/vacancy/'||v.id\n",
    "\t, v.name\n",
    "\t, key_skills\n",
    "\t, v.experience\n",
    "\t, v.department\n",
    "\t, v.salary_str\n",
    "\t, v.hr\n",
    "\t, hr_email\n",
    "\t, hr_phones\n",
    "FROM\n",
    "\tvacs v\n",
    "WHERE\n",
    "\t1=1\n",
    "\tAND (v.lower_description LIKE '%data analyst%'\n",
    "\t\tOR v.lower_description LIKE '%аналитик данных%'\n",
    "\t\tOR v.description  LIKE ('% DA %')\n",
    "\t\tOR v.description  LIKE ('% DA.%')\n",
    "\t\tOR v.description  LIKE ('% DA,%')\n",
    "\t\tOR v.description  LIKE ('DA,%')\n",
    "\t\tOR v.description  LIKE ('DA.%')\n",
    "\t\tOR v.description  LIKE ('DA %'))\n",
    "\tAND v.lower_area = 'москва'\n",
    "\tAND v.lower_description LIKE '%python%'\n",
    "ORDER BY\n",
    "\tdate(created_at, 'DD-MM-YYYY')\n",
    "''')).to_csv('HH_api/data/filtred.csv')"
   ],
   "metadata": {
    "collapsed": false,
    "pycharm": {
     "name": "#%%\n"
    }
   }
  },
  {
   "cell_type": "code",
   "execution_count": null,
   "outputs": [],
   "source": [
    "sql_db.close()"
   ],
   "metadata": {
    "collapsed": false,
    "pycharm": {
     "name": "#%%\n"
    }
   }
  }
 ],
 "metadata": {
  "kernelspec": {
   "name": "pycharm-f169a146",
   "language": "python",
   "display_name": "PyCharm (School_DA)"
  },
  "language_info": {
   "codemirror_mode": {
    "name": "ipython",
    "version": 2
   },
   "file_extension": ".py",
   "mimetype": "text/x-python",
   "name": "python",
   "nbconvert_exporter": "python",
   "pygments_lexer": "ipython2",
   "version": "2.7.6"
  }
 },
 "nbformat": 4,
 "nbformat_minor": 0
}